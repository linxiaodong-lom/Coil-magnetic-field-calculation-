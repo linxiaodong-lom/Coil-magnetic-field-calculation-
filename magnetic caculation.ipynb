{
 "cells": [
  {
   "cell_type": "code",
   "execution_count": 12,
   "metadata": {},
   "outputs": [],
   "source": [
    "import numpy as np\n",
    "import matplotlib.pyplot as plt"
   ]
  },
  {
   "cell_type": "code",
   "execution_count": 13,
   "metadata": {},
   "outputs": [],
   "source": [
    "N1 = 10 #每层线圈数目\n",
    "N2 = 20 #线圈层数\n",
    "R0 = 38 # 线圈半径 mm\n",
    "L0 = (380)/2 # 两个线圈之间距离 mm\n",
    "I = 2 # 线圈电流 A\n",
    "M = 100 #取点数\n",
    "rtong = 0.5 #铜线半径 mm"
   ]
  },
  {
   "cell_type": "code",
   "execution_count": 14,
   "metadata": {},
   "outputs": [],
   "source": [
    "def dB(r,dli,posi):\n",
    "    u0 = 4*np.pi*10**-4 # T*mm/A 真空磁导率\n",
    "    rvector = r-posi\n",
    "    dB1 = np.cross(dli,rvector)\n",
    "    rsize = np.sqrt(np.vdot(rvector,rvector))\n",
    "    return u0*I*dB1/(4*np.pi*rsize**3)\n",
    "    \n",
    "    \n",
    "def B1(R,L,r):\n",
    "    #取线圈中间为坐标原点，轴线为Z方向，用柱坐标系\n",
    "    angle = np.arange(0,2*np.pi,2*np.pi/M)\n",
    "    xi  = angle\n",
    "    xe = np.array(list(angle[1:])+[0])\n",
    "    pos_i = []\n",
    "    pos_e = []  #电流源的始末位置\n",
    "    dl = [] #电流源\n",
    "    for i in range(len(angle)):\n",
    "        pos_i.append(np.array([R*np.cos(xi[i]),R*np.sin(xi[i]),L]))\n",
    "        pos_e.append(np.array([R*np.cos(xe[i]),R*np.sin(xe[i]),L]))\n",
    "    for j in range(len(angle)):\n",
    "        dl.append(pos_e[j]-pos_i[j])\n",
    "    \n",
    "    Bx ,By ,Bz= [] ,[] ,[]\n",
    "    for i in range(len(pos_i)):\n",
    "        t=dB(r,dl[i],(pos_i[i]+ pos_e[i])/2)\n",
    "        Bx.append(t[0])\n",
    "        By.append(t[1])\n",
    "        Bz.append(t[2])\n",
    "    return np.array([np.sum(Bx) , np.sum(By) ,np.sum(Bz)])\n",
    "    \n",
    "def B2(R,L,r):\n",
    "    #取线圈中间为坐标原点，轴线为Z方向，用柱坐标系\n",
    "    angle = np.arange(0,2*np.pi,2*np.pi/M)\n",
    "    xi  = angle\n",
    "    xe = np.array(list(angle[1:])+[0])\n",
    "    pos_i = []\n",
    "    pos_e = []  #电流源的始末位置\n",
    "    dl = [] #电流源\n",
    "    for i in range(len(angle)):\n",
    "        pos_i.append(np.array([R*np.cos(xi[i]),R*np.sin(xi[i]),-L]))\n",
    "        pos_e.append(np.array([R*np.cos(xe[i]),R*np.sin(xe[i]),-L]))\n",
    "    for j in range(len(angle)):\n",
    "        dl.append(pos_e[j]-pos_i[j])\n",
    "    \n",
    "    Bx ,By ,Bz= [] ,[] ,[]\n",
    "    for i in range(len(pos_i)):\n",
    "        t=dB(r,dl[i],(pos_i[i]+ pos_e[i])/2)\n",
    "        Bx.append(t[0])\n",
    "        By.append(t[1])\n",
    "        Bz.append(t[2])\n",
    "    return np.array([np.sum(Bx) , np.sum(By) ,np.sum(Bz)])\n",
    "\n",
    "def B(r):\n",
    "    BTOT = []\n",
    "    BTOTX = []\n",
    "    BTOTY = []\n",
    "    BTOTZ = [] \n",
    "    for j in range(N2):\n",
    "        for i in range(N1):\n",
    "            R = R0 + 2*i*rtong\n",
    "            L= L0 + 2*j*rtong\n",
    "            BTOT.append((B1(R,L,r) + B2(R,L,r))*10**7) #转换成mG\n",
    "    for i in range(len(BTOT)):\n",
    "        BT0TX = BTOTX.append(BTOT[i][0])\n",
    "        BT0TY = BTOTY.append(BTOT[i][1])\n",
    "        BT0TZ = BTOTZ.append(BTOT[i][2])\n",
    "    return np.array([np.sum(BTOTX),np.sum(BTOTY),np.sum(BTOTZ)])\n",
    "    \n",
    "    \n",
    "    \n",
    "    \n"
   ]
  },
  {
   "cell_type": "code",
   "execution_count": 15,
   "metadata": {
    "scrolled": true
   },
   "outputs": [],
   "source": [
    "\n",
    "#z = np.array(list(range(-10,10,1)))/1000000 #-500um-500um3\n",
    "#T = []\n",
    "#for i in range(len(z)):\n",
    "    #r = [0,0,z[i]]\n",
    "    #T.append(B(r)[2])\n",
    "#plt.plot(z,T)\n",
    "#plt.xlabel(\"Z axis [m]\")\n",
    "#plt.ylabel(\"B [mGs]\")\n",
    "#plt.show()\n",
    "\n"
   ]
  },
  {
   "cell_type": "code",
   "execution_count": 16,
   "metadata": {},
   "outputs": [
    {
     "data": {
      "image/png": "[encoded data removed]",
      "text/plain": [
       "<Figure size 432x288 with 1 Axes>"
      ]
     },
     "metadata": {
      "needs_background": "light"
     },
     "output_type": "display_data"
    }
   ],
   "source": [
    "z = np.array(list(range(-500,500,1)))/1000 #-500um-500um\n",
    "temp = np.array([B(np.array([0,0 , i])) for i in z])\n",
    "plt.scatter(z,temp[:,2])\n",
    "plt.xlabel(\"Z axis [mm]\")\n",
    "plt.ylabel(\"B [mGs]\")\n",
    "plt.show()"
   ]
  },
  {
   "cell_type": "code",
   "execution_count": null,
   "metadata": {},
   "outputs": [],
   "source": []
  },
  {
   "cell_type": "code",
   "execution_count": null,
   "metadata": {},
   "outputs": [],
   "source": []
  },
  {
   "cell_type": "code",
   "execution_count": null,
   "metadata": {},
   "outputs": [],
   "source": []
  },
  {
   "cell_type": "code",
   "execution_count": null,
   "metadata": {},
   "outputs": [],
   "source": []
  },
  {
   "cell_type": "code",
   "execution_count": null,
   "metadata": {},
   "outputs": [],
   "source": [
    "\n"
   ]
  },
  {
   "cell_type": "code",
   "execution_count": null,
   "metadata": {},
   "outputs": [],
   "source": []
  }
 ],
 "metadata": {
  "kernelspec": {
   "display_name": "Python 3",
   "language": "python",
   "name": "python3"
  },
  "language_info": {
   "codemirror_mode": {
    "name": "ipython",
    "version": 3
   },
   "file_extension": ".py",
   "mimetype": "text/x-python",
   "name": "python",
   "nbconvert_exporter": "python",
   "pygments_lexer": "ipython3",
   "version": "3.8.3"
  }
 },
 "nbformat": 4,
 "nbformat_minor": 4
}
